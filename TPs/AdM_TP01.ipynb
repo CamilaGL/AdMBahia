{
  "nbformat": 4,
  "nbformat_minor": 0,
  "metadata": {
    "colab": {
      "name": "AdM-TP01.ipynb",
      "provenance": [],
      "collapsed_sections": []
    },
    "kernelspec": {
      "name": "python3",
      "display_name": "Python 3"
    },
    "language_info": {
      "name": "python"
    }
  },
  "cells": [
    {
      "cell_type": "code",
      "metadata": {
        "id": "peYXeSVf3x_7"
      },
      "source": [
        "import numpy as np\n",
        "import matplotlib.pyplot as plt\n",
        "\n",
        "#Arreglos\n",
        "i_x = np.array([10,8,13,9,11,14,6,4,12,7,5])\n",
        "i_y = np.array([8.04,6.95,7.58,8.81,8.33,9.96,7.24,4.26,10.84,4.82,5.68])\n",
        "\n",
        "ii_x = np.array([10,8,13,9,11,14,6,4,12,7,5])\n",
        "ii_y = np.array([9.14,8.14,8.74,8.77,9.26,8.10,6.13,3.10,9.13,7.26,4.74])\n",
        "\n",
        "iii_x = np.array([10,8,13,9,11,14,6,4,12,7,5])\n",
        "iii_y = np.array([7.46,6.77,12.74,7.11,7.81,8.84,6.08,5.39,8.15,6.42,5.73])\n",
        "\n",
        "iv_x = np.array([8,8,8,8,8,8,8,19,8,8,8])\n",
        "iv_y = np.array([6.58,5.76,7.79,8.84,8.47,7.04,5.25,12.50,5.56,7.91,6.89])\n",
        "\n",
        "#Puntos\n",
        "p1_x = np.array([16])\n",
        "p1_y = np.array([8])\n",
        "\n",
        "p2_x = np.array([8])\n",
        "p2_y = np.array([6])\n",
        "\n",
        "p3_x = np.array([16])\n",
        "p3_y = np.array([10])\n",
        "\n",
        "p4_x = np.array([16])\n",
        "p4_y = np.array([6])\n",
        "\n"
      ],
      "execution_count": 9,
      "outputs": []
    },
    {
      "cell_type": "code",
      "metadata": {
        "colab": {
          "base_uri": "https://localhost:8080/",
          "height": 281
        },
        "id": "Mt8Jb5EX5aK9",
        "outputId": "0b846ff2-c795-4979-b235-c21304fc5d2b"
      },
      "source": [
        "plt.scatter(i_x,i_y)\n",
        "plt.plot(p1_x,p1_y,'*r')\n",
        "plt.plot(p2_x,p2_y,'^r')\n",
        "plt.plot(p3_x,p3_y,'sr')\n",
        "plt.plot(p4_x,p4_y,'or')\n",
        "\n",
        "plt.title('Dataset 1')\n",
        "\n",
        "plt.show()\n"
      ],
      "execution_count": 10,
      "outputs": [
        {
          "output_type": "display_data",
          "data": {
            "image/png": "[encoded data removed]",
            "text/plain": [
              "<Figure size 432x288 with 1 Axes>"
            ]
          },
          "metadata": {
            "needs_background": "light"
          }
        }
      ]
    },
    {
      "cell_type": "markdown",
      "metadata": {
        "id": "8RtwwcMW8rzD"
      },
      "source": [
        "El punto 1 corresponde al dataset 1.\n"
      ]
    },
    {
      "cell_type": "code",
      "metadata": {
        "colab": {
          "base_uri": "https://localhost:8080/",
          "height": 298
        },
        "id": "69rLzTpv6JEE",
        "outputId": "7f28c395-1545-4e62-b264-f135fde6a9f6"
      },
      "source": [
        "plt.scatter(ii_x,ii_y)\n",
        "plt.plot(p1_x,p1_y,'*r')\n",
        "plt.plot(p2_x,p2_y,'^r')\n",
        "plt.plot(p3_x,p3_y,'sr')\n",
        "plt.plot(p4_x,p4_y,'or')\n",
        "\n",
        "plt.title('Dataset 2')"
      ],
      "execution_count": 11,
      "outputs": [
        {
          "output_type": "execute_result",
          "data": {
            "text/plain": [
              "Text(0.5, 1.0, 'Dataset 2')"
            ]
          },
          "metadata": {},
          "execution_count": 11
        },
        {
          "output_type": "display_data",
          "data": {
            "image/png": "[encoded data removed]",
            "text/plain": [
              "<Figure size 432x288 with 1 Axes>"
            ]
          },
          "metadata": {
            "needs_background": "light"
          }
        }
      ]
    },
    {
      "cell_type": "markdown",
      "metadata": {
        "id": "7BaBWiKc8eui"
      },
      "source": [
        "El punto 4 es el que se ajusta a la continuidad de la curva, por lo que es el que pertenece al dataset 2."
      ]
    },
    {
      "cell_type": "code",
      "metadata": {
        "colab": {
          "base_uri": "https://localhost:8080/",
          "height": 298
        },
        "id": "xsoEFN0N6JNb",
        "outputId": "c6cd2442-1390-4d9c-afd2-980489337092"
      },
      "source": [
        "plt.scatter(iii_x,iii_y)\n",
        "plt.plot(p1_x,p1_y,'*r')\n",
        "plt.plot(p2_x,p2_y,'^r')\n",
        "plt.plot(p3_x,p3_y,'sr')\n",
        "plt.plot(p4_x,p4_y,'or')\n",
        "\n",
        "plt.title('Dataset 3')"
      ],
      "execution_count": 12,
      "outputs": [
        {
          "output_type": "execute_result",
          "data": {
            "text/plain": [
              "Text(0.5, 1.0, 'Dataset 3')"
            ]
          },
          "metadata": {},
          "execution_count": 12
        },
        {
          "output_type": "display_data",
          "data": {
            "image/png": "[encoded data removed]",
            "text/plain": [
              "<Figure size 432x288 with 1 Axes>"
            ]
          },
          "metadata": {
            "needs_background": "light"
          }
        }
      ]
    },
    {
      "cell_type": "markdown",
      "metadata": {
        "id": "BsOKkXSL8jWU"
      },
      "source": [
        "El punto 3 es el que corresponde al dataset 3, considerando la continuidad de la recta.\n",
        "\n"
      ]
    },
    {
      "cell_type": "code",
      "metadata": {
        "colab": {
          "base_uri": "https://localhost:8080/",
          "height": 298
        },
        "id": "JnwRy9Xt6JUt",
        "outputId": "463ef9fe-62c7-4c7d-c1ee-ee71fa7f882c"
      },
      "source": [
        "plt.scatter(iv_x,iv_y)\n",
        "plt.plot(p1_x,p1_y,'*r')\n",
        "plt.plot(p2_x,p2_y,'^r')\n",
        "plt.plot(p3_x,p3_y,'sr')\n",
        "plt.plot(p4_x,p4_y,'or')\n",
        "\n",
        "plt.title('Dataset 4')"
      ],
      "execution_count": 13,
      "outputs": [
        {
          "output_type": "execute_result",
          "data": {
            "text/plain": [
              "Text(0.5, 1.0, 'Dataset 4')"
            ]
          },
          "metadata": {},
          "execution_count": 13
        },
        {
          "output_type": "display_data",
          "data": {
            "image/png": "[encoded data removed]",
            "text/plain": [
              "<Figure size 432x288 with 1 Axes>"
            ]
          },
          "metadata": {
            "needs_background": "light"
          }
        }
      ]
    },
    {
      "cell_type": "markdown",
      "metadata": {
        "id": "7bDxmOuA8oM2"
      },
      "source": [
        "El punto 2 es el que pertenece al dataset 4."
      ]
    }
  ]
}